{
  "nbformat": 4,
  "nbformat_minor": 0,
  "metadata": {
    "colab": {
      "name": "Untitled7.ipynb",
      "provenance": [],
      "collapsed_sections": [],
      "authorship_tag": "ABX9TyMOx35CtrbIR3h7W/g7WKIG",
      "include_colab_link": true
    },
    "kernelspec": {
      "name": "python3",
      "display_name": "Python 3"
    },
    "language_info": {
      "name": "python"
    }
  },
  "cells": [
    {
      "cell_type": "markdown",
      "metadata": {
        "id": "view-in-github",
        "colab_type": "text"
      },
      "source": [
        "<a href=\"https://colab.research.google.com/github/qkaTlehdrnf/Garage/blob/main/EnergyTransferEngineeringHW04.ipynb\" target=\"_parent\"><img src=\"https://colab.research.google.com/assets/colab-badge.svg\" alt=\"Open In Colab\"/></a>"
      ]
    },
    {
      "cell_type": "code",
      "metadata": {
        "id": "EZjSc2gaHOuj"
      },
      "source": [
        "import math\n",
        "global ho,hi\n",
        "ho_L=[500,2000,4000,2000,2000]\n",
        "hi_L=[500,500,500,800,1200]\n",
        "pi=3.141592653589793238"
      ],
      "execution_count": 1,
      "outputs": []
    },
    {
      "cell_type": "code",
      "metadata": {
        "id": "jH8k5Qd3QsXM"
      },
      "source": [
        "def var(i):\n",
        "  global ho,hi\n",
        "  ho=ho_L[i]\n",
        "  hi=hi_L[i]"
      ],
      "execution_count": 2,
      "outputs": []
    },
    {
      "cell_type": "code",
      "metadata": {
        "id": "Y5u-U6AyIH6_"
      },
      "source": [
        "def Ra():\n",
        "  return 1/(2*pi*0.11*ho)"
      ],
      "execution_count": 3,
      "outputs": []
    },
    {
      "cell_type": "code",
      "metadata": {
        "id": "k_bVRDMrIlmj"
      },
      "source": [
        "def Rab():\n",
        "  return math.log(11/10)/(2*pi*15)"
      ],
      "execution_count": 4,
      "outputs": []
    },
    {
      "cell_type": "code",
      "metadata": {
        "id": "zgtsDH1KJjlN"
      },
      "source": [
        "def Rb():\n",
        "  return 1/(2*pi*0.1*hi)"
      ],
      "execution_count": 5,
      "outputs": []
    },
    {
      "cell_type": "code",
      "metadata": {
        "id": "_EkJNLzgJsKI"
      },
      "source": [
        "def q_1(i):\n",
        "  var(i)\n",
        "  Q=1100/(Ra()+Rb()+Rab())\n",
        "  To=1500-Q*Ra()\n",
        "  return Q,To-273.15"
      ],
      "execution_count": 6,
      "outputs": []
    },
    {
      "cell_type": "code",
      "metadata": {
        "colab": {
          "base_uri": "https://localhost:8080/"
        },
        "id": "TpD4BE5rKHWq",
        "outputId": "6a2eab56-db9d-4253-e441-0f7ed27ba914"
      },
      "source": [
        "for i in range(5):\n",
        "  Q,To=q_1(i)\n",
        "  print(\"Case {} Q/L=\".format(i+1),Q,\"[W/m], To=\",To,\"[K]\")"
      ],
      "execution_count": 7,
      "outputs": [
        {
          "output_type": "stream",
          "name": "stdout",
          "text": [
            "Case 1 Q/L= 155189.73850281176 [W/m], To= 777.7733818207067 [K]\n",
            "Case 2 Q/L= 223677.1249965844 [W/m], To= 1065.0349086373176 [K]\n",
            "Case 3 Q/L= 241435.24608936746 [W/m], To= 1139.5190617006115 [K]\n",
            "Case 4 Q/L= 295370.1456537368 [W/m], To= 1013.1699148974304 [K]\n",
            "Case 5 Q/L= 359360.25363671535 [W/m], To= 966.8774512861795 [K]\n"
          ]
        }
      ]
    },
    {
      "cell_type": "code",
      "metadata": {
        "id": "PbtxHoS9KZYE"
      },
      "source": [
        "def Rins():\n",
        "  return math.log(11.5/11)/(2*pi*1.5)"
      ],
      "execution_count": 8,
      "outputs": []
    },
    {
      "cell_type": "code",
      "metadata": {
        "id": "JE9oXQkiT8h6"
      },
      "source": [
        "def Ra2():\n",
        "  return 1/(2*pi*0.115*ho)"
      ],
      "execution_count": 9,
      "outputs": []
    },
    {
      "cell_type": "code",
      "metadata": {
        "id": "rUcXLJLLSuqf"
      },
      "source": [
        "def q_2(i):\n",
        "  var(i)\n",
        "  Q=1100/(Rins()+Ra2()+Rab()+Rb())\n",
        "  To=1500-Q*(Ra2()+Rins())\n",
        "  return Q,To-273.15"
      ],
      "execution_count": 10,
      "outputs": []
    },
    {
      "cell_type": "code",
      "metadata": {
        "colab": {
          "base_uri": "https://localhost:8080/"
        },
        "id": "q0O8VOEPUp2t",
        "outputId": "8c500033-41ec-491a-9527-77bd59f8412a"
      },
      "source": [
        "for i in range(5):\n",
        "  Q,To=q_2(i)\n",
        "  print(\"Case {} Q/L=\".format(i+1),Q,\"[W/m], To=\",To,\"[K]\")"
      ],
      "execution_count": 11,
      "outputs": [
        {
          "output_type": "stream",
          "name": "stdout",
          "text": [
            "Case 1 Q/L= 94188.06687954634 [W/m], To= 521.9097224524508 [K]\n",
            "Case 2 Q/L= 114549.59148236277 [W/m], To= 607.3135164233428 [K]\n",
            "Case 3 Q/L= 118831.06384251962 [W/m], To= 625.2716011184511 [K]\n",
            "Case 4 Q/L= 130809.64717826678 [W/m], To= 519.3717123694015 [K]\n",
            "Case 5 Q/L= 142008.40991828233 [W/m], To= 458.80369114318205 [K]\n"
          ]
        }
      ]
    },
    {
      "cell_type": "code",
      "metadata": {
        "id": "mfVgh9dXUvTT"
      },
      "source": [
        ""
      ],
      "execution_count": 11,
      "outputs": []
    }
  ]
}